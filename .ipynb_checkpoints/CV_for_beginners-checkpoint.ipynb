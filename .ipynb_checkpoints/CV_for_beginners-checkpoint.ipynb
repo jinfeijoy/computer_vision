{
 "cells": [
  {
   "attachments": {},
   "cell_type": "markdown",
   "id": "5981674c",
   "metadata": {},
   "source": [
    "# Computer Vision Tutorial for Beginners | Learn Computer Vision\n",
    "\n",
    "\n",
    "* [Computer Vision Tutorial for Beginners | Learn Computer Vision](https://www.projectpro.io/data-science-in-python-tutorial/computer-vision-tutorial-for-beginners#mcetoc_1fcvfccbed)\n",
    "\n",
    "\n",
    "\n",
    "![image.png](https://dezyre.gumlet.io/images/tutorial/computer-vision-tutorial-for-beginners/image_44513273631635934892538.png?w=1140&dpr=1.0)\n",
    "\n",
    "## Image Processing\n",
    "The four prominent color spaces provided by OpenCV are RGB, HSV, YCrCb and LAB.\n",
    "### RGB \n",
    "RGB stands for the three colours - Red, Green and Blue. The pixels of an RGB image are made up with a linear combination of the colour intensities of Red, Green and Blue. The color differentiation is heavily dependent on the lighting conditions. Under bright lighting, the segregation of colours can be more visible as opposed to dull lighting. Hence, to perform colour based segmentation, RGB color space is not a good choice as the information related to color and luminance is mixed. "
   ]
  },
  {
   "cell_type": "code",
   "execution_count": null,
   "id": "c4c509ce",
   "metadata": {},
   "outputs": [],
   "source": []
  }
 ],
 "metadata": {
  "kernelspec": {
   "display_name": "Python 3 (ipykernel)",
   "language": "python",
   "name": "python3"
  },
  "language_info": {
   "codemirror_mode": {
    "name": "ipython",
    "version": 3
   },
   "file_extension": ".py",
   "mimetype": "text/x-python",
   "name": "python",
   "nbconvert_exporter": "python",
   "pygments_lexer": "ipython3",
   "version": "3.9.13"
  }
 },
 "nbformat": 4,
 "nbformat_minor": 5
}
